{
 "cells": [
  {
   "cell_type": "code",
   "execution_count": 48,
   "metadata": {},
   "outputs": [],
   "source": [
    "import numpy as np\n",
    "import pandas as pd\n",
    "import matplotlib.pyplot as plt\n",
    "from sklearn import metrics \n",
    "import seaborn as sns"
   ]
  },
  {
   "cell_type": "code",
   "execution_count": 49,
   "metadata": {},
   "outputs": [
    {
     "data": {
      "text/plain": [
       "'Precision and recall are performance matrics used for pattern recoginition and classification in Machine learning.\\nConfusion matrix helps us to display the performance of a model or how a model has made its prediction in Machine learning.\\n\"True postitive\":- This combination tells us how many times a mofel correctly classified a positive sample as positive.\\n\"False Negative\":- This combination tells us how many times a model incorrectly classified a positive sample as negative.\\n\"False Positive\":- This combination tells us how many times a model incorrectly classified a negative sample as positive.\\n\"True Negative\":- This combination tells us how many times a model correctly classified a negative sample as negative.'"
      ]
     },
     "execution_count": 49,
     "metadata": {},
     "output_type": "execute_result"
    }
   ],
   "source": [
    "'''Precision and recall are performance matrics used for pattern recoginition and classification in Machine learning.\n",
    "Confusion matrix helps us to display the performance of a model or how a model has made its prediction in Machine learning.\n",
    "\"True postitive\":- This combination tells us how many times a mofel correctly classified a positive sample as positive.\n",
    "\"False Negative\":- This combination tells us how many times a model incorrectly classified a positive sample as negative.\n",
    "\"False Positive\":- This combination tells us how many times a model incorrectly classified a negative sample as positive.\n",
    "\"True Negative\":- This combination tells us how many times a model correctly classified a negative sample as negative.'''"
   ]
  },
  {
   "cell_type": "code",
   "execution_count": 50,
   "metadata": {},
   "outputs": [],
   "source": [
    "truth =      [\"Dog\",\"Not a dog\",\"Dog\",\"Dog\",      \"Dog\", \"Not a dog\", \"Not a dog\", \"Dog\",       \"Dog\", \"Not a dog\"]\n",
    "prediction = [\"Dog\",\"Dog\",      \"Dog\",\"Not a dog\",\"Dog\", \"Not a dog\", \"Dog\",       \"Not a dog\", \"Dog\", \"Dog\"]"
   ]
  },
  {
   "cell_type": "code",
   "execution_count": 51,
   "metadata": {},
   "outputs": [
    {
     "data": {
      "image/png": "[encoded data removed]",
      "text/plain": [
       "<Figure size 640x480 with 2 Axes>"
      ]
     },
     "metadata": {},
     "output_type": "display_data"
    }
   ],
   "source": [
    "cm = metrics.confusion_matrix(truth,prediction)\n",
    "cm_display = metrics.ConfusionMatrixDisplay(confusion_matrix = cm, display_labels = ['Dog', 'Not a Dog'])\n",
    "\n",
    "cm_display.plot()\n",
    "plt.show() "
   ]
  },
  {
   "cell_type": "code",
   "execution_count": 52,
   "metadata": {},
   "outputs": [
    {
     "name": "stdout",
     "output_type": "stream",
     "text": [
      "[[4 2]\n",
      " [3 1]]\n"
     ]
    }
   ],
   "source": [
    "print(cm)"
   ]
  },
  {
   "cell_type": "code",
   "execution_count": 56,
   "metadata": {},
   "outputs": [
    {
     "data": {
      "text/plain": [
       "'Precision:- Precision is defined as ratio of correctly classifeidposotive samples (TP) to a total no of classfied postive samples(either correctly or incorreclty.\\nPrecision = TP/(TP+FP))\\nRecall:- Recall is defined as the ratio between the number of positive samples correctly classified as positive to the total number of positive samples.\\nRecall = TP/(TP+FN)'"
      ]
     },
     "execution_count": 56,
     "metadata": {},
     "output_type": "execute_result"
    }
   ],
   "source": [
    "'''Precision:- Precision is defined as ratio of correctly classifeidposotive samples (TP) to a total no of classfied postive samples(either correctly or incorreclty.\n",
    "Precision = TP/(TP+FP))\n",
    "Recall:- Recall is defined as the ratio between the number of positive samples correctly classified as positive to the total number of positive samples.\n",
    "Recall = TP/(TP+FN)'''"
   ]
  },
  {
   "cell_type": "code",
   "execution_count": 55,
   "metadata": {},
   "outputs": [
    {
     "name": "stdout",
     "output_type": "stream",
     "text": [
      "              precision    recall  f1-score   support\n",
      "\n",
      "         Dog       0.57      0.67      0.62         6\n",
      "   Not a dog       0.33      0.25      0.29         4\n",
      "\n",
      "    accuracy                           0.50        10\n",
      "   macro avg       0.45      0.46      0.45        10\n",
      "weighted avg       0.48      0.50      0.48        10\n",
      "\n"
     ]
    }
   ],
   "source": [
    "print(metrics.classification_report(truth, prediction))"
   ]
  },
  {
   "cell_type": "code",
   "execution_count": null,
   "metadata": {},
   "outputs": [],
   "source": []
  }
 ],
 "metadata": {
  "kernelspec": {
   "display_name": "base",
   "language": "python",
   "name": "python3"
  },
  "language_info": {
   "codemirror_mode": {
    "name": "ipython",
    "version": 3
   },
   "file_extension": ".py",
   "mimetype": "text/x-python",
   "name": "python",
   "nbconvert_exporter": "python",
   "pygments_lexer": "ipython3",
   "version": "3.11.5"
  }
 },
 "nbformat": 4,
 "nbformat_minor": 2
}
